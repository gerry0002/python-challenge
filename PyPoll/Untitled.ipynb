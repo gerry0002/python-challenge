{
 "cells": [
  {
   "cell_type": "code",
   "execution_count": null,
   "metadata": {},
   "outputs": [],
   "source": [
    "#import libraries\n",
    "import os\n",
    "import csv\n",
    "import pandas as pd\n"
   ]
  },
  {
   "cell_type": "code",
   "execution_count": null,
   "metadata": {},
   "outputs": [],
   "source": [
    "#create data frame \n",
    "csv_path = os.path.join('Resources', 'week-3-python_homework_PyPoll_Resources_election_data.csv')\n",
    "poll_df = pd.read_csv(csv_path, low_memory=False)\n",
    "\n"
   ]
  },
  {
   "cell_type": "code",
   "execution_count": null,
   "metadata": {},
   "outputs": [],
   "source": [
    "#calculating results\n",
    "tot_votes = len(poll_df)\n",
    "\n",
    "can_votes = poll_df.groupby(['Candidate'],sort=False).agg({'Voter ID': 'count'},index=True)\n",
    "can_votes[\"Percent\"] = can_votes.apply(lambda x:  100*x / x.sum())\n",
    "\n"
   ]
  },
  {
   "cell_type": "code",
   "execution_count": null,
   "metadata": {},
   "outputs": [],
   "source": [
    "#print results\n",
    "print(f\"Election Results \")\n",
    "print(f\"***********************\" )\n",
    "print(f\"Total Votes: {tot_votes}\")\n",
    "print(f\"***********************\" )\n",
    "print(can_votes)\n",
    "print(f\"***********************\" )\n",
    "print(f\"Winner: {can_votes.index[0]}\")"
   ]
  },
  {
   "cell_type": "code",
   "execution_count": null,
   "metadata": {},
   "outputs": [],
   "source": []
  },
  {
   "cell_type": "code",
   "execution_count": null,
   "metadata": {},
   "outputs": [],
   "source": []
  }
 ],
 "metadata": {
  "kernelspec": {
   "display_name": "Python 3",
   "language": "python",
   "name": "python3"
  },
  "language_info": {
   "codemirror_mode": {
    "name": "ipython",
    "version": 3
   },
   "file_extension": ".py",
   "mimetype": "text/x-python",
   "name": "python",
   "nbconvert_exporter": "python",
   "pygments_lexer": "ipython3",
   "version": "3.8.3"
  }
 },
 "nbformat": 4,
 "nbformat_minor": 4
}
